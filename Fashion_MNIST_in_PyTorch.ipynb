{
  "nbformat": 4,
  "nbformat_minor": 0,
  "metadata": {
    "accelerator": "GPU",
    "colab": {
      "name": "Fashion MNIST in PyTorch.ipynb",
      "provenance": [],
      "collapsed_sections": [],
      "authorship_tag": "ABX9TyNytqsui0t5q7xTe22J58LS",
      "include_colab_link": true
    },
    "kernelspec": {
      "display_name": "Python 3",
      "name": "python3"
    },
    "language_info": {
      "name": "python"
    }
  },
  "cells": [
    {
      "cell_type": "markdown",
      "metadata": {
        "id": "view-in-github",
        "colab_type": "text"
      },
      "source": [
        "<a href=\"https://colab.research.google.com/github/wimurr/Fashion_MNIST/blob/main/Fashion_MNIST_in_PyTorch.ipynb\" target=\"_parent\"><img src=\"https://colab.research.google.com/assets/colab-badge.svg\" alt=\"Open In Colab\"/></a>"
      ]
    },
    {
      "cell_type": "code",
      "metadata": {
        "id": "mLjVF3MbNmdg"
      },
      "source": [
        "import matplotlib\n",
        "import matplotlib.pyplot as plt\n",
        "import numpy as np\n",
        "import scipy\n",
        "import time\n",
        "%matplotlib inline"
      ],
      "execution_count": 1,
      "outputs": []
    },
    {
      "cell_type": "code",
      "metadata": {
        "id": "dQ_n4qOLNvuR"
      },
      "source": [
        "import torch\n",
        "from torch.utils.data import Dataset,DataLoader\n",
        "import torch.optim\n",
        "import PIL # Python Image Library\n",
        "import torchvision.datasets\n",
        "from torchvision.transforms import ToTensor\n",
        "import torch.nn as nn\n",
        "import torch.nn.functional as F\n",
        "from pathlib import Path\n",
        "from random import randint"
      ],
      "execution_count": 2,
      "outputs": []
    },
    {
      "cell_type": "code",
      "metadata": {
        "id": "rX0On6YEXj9O",
        "colab": {
          "base_uri": "https://localhost:8080/"
        },
        "outputId": "4f6662da-3203-4a2b-fa46-9856b9eca39a"
      },
      "source": [
        "N_EPOCHS = 20\n",
        "data_dir = Path(\"./sample_data\")\n",
        "device = torch.device('cuda') if torch.cuda.is_available() else torch.device('cpu')\n",
        "print(f\"Training on device {device}.\")"
      ],
      "execution_count": 3,
      "outputs": [
        {
          "output_type": "stream",
          "name": "stdout",
          "text": [
            "Training on device cuda.\n"
          ]
        }
      ]
    },
    {
      "cell_type": "code",
      "metadata": {
        "id": "8wyKbyI2XZpS"
      },
      "source": [
        "FASHION_MNIST_CLASS_NAMES = {0:'T-shirt/top',1:'Trouser',2:'Pullover',3:'Dress',4:'Coat',5:'Sandal',6:'Shirt',7:'Sneaker',8:'Bag',9:'Ankle boot'}\n",
        "\n",
        "# Images\n",
        "FASHION_MNIST_train = torchvision.datasets.FashionMNIST(root=str(data_dir),train=True,download=True)\n",
        "FASHION_MNIST_test = torchvision.datasets.FashionMNIST(root=str(data_dir),train=False,download=True)\n",
        "FASHION_MNIST_image_channels = 1\n",
        "\n",
        "# Tensors from images\n",
        "tensor_FASHION_MNIST_train = torchvision.datasets.FashionMNIST(root=str(data_dir),train=True,download=True,transform=ToTensor())\n",
        "tensor_FASHION_MNIST_test = torchvision.datasets.FashionMNIST(root=str(data_dir),train=False,download=True,transform=ToTensor())\n"
      ],
      "execution_count": 4,
      "outputs": []
    },
    {
      "cell_type": "code",
      "metadata": {
        "id": "eyC77LkwN10p"
      },
      "source": [
        "# Utilities to examine the data, show an example, and normalize the results, if desired\n",
        "\n",
        "def examine_data_set(train=FASHION_MNIST_train,test=FASHION_MNIST_test):\n",
        "    print(f\"There are {len(train)} training data samples and {len(test)} data samples for testing.\")\n",
        "\n",
        "def one_example(class_names=FASHION_MNIST_CLASS_NAMES,train=FASHION_MNIST_train):\n",
        "    '''Randomly pick one example. Display it if it is an image. Otherwise\n",
        "    just describe it's shape and label. Either way return the data and label.'''\n",
        "    N = len(train)\n",
        "    i = randint(0,N-1)\n",
        "    data_sample,label = train[i]\n",
        "    if isinstance(data_sample,PIL.Image.Image):\n",
        "        print(f\"Randomly fetched image train[{i}]. Type is {type(data_sample)}.\")\n",
        "        best_label=class_names[label]\n",
        "        print(f\"Class index = {label}, Label = {best_label}\")\n",
        "        plt.imshow(data_sample)\n",
        "        plt.show()\n",
        "        return data_sample,label\n",
        "    else:\n",
        "        print(f\"Randomly fetched train[{i}] data sample. Type is {type(data_sample)}. Shape is: {data_sample.shape}\")\n",
        "        print(f\"It's label is: {label}\")\n",
        "        return data_sample,label\n",
        "\n",
        "def show_batch_example(train=tensor_FASHION_MNIST_train,N=10):\n",
        "    train_data_loader = DataLoader(train,batch_size=N,shuffle=True)\n",
        "    for samples,labels in train_data_loader:\n",
        "        print(f\"We fetched a single batch of {N} randomly selected samples.\")\n",
        "        print(f\"The shape of the data batch is: {samples.shape}\")\n",
        "        print(f\"The shape of the labels for that batch is: {labels.shape}\")\n",
        "        break\n",
        "\n",
        "def get_mean_and_std(train=tensor_FASHION_MNIST_train,N_channels=1):\n",
        "\n",
        "    # Adds a last dimension to count the number of images stacked one upon another\n",
        "    stacked_images = torch.stack([image_tensor for image_tensor, label in train], dim=3)\n",
        "    print(f\"The stacked images for all of the training data set has shape {stacked_images.shape}.\")\n",
        "\n",
        "    # For each channel, add across the stacked images to get the mean and std\n",
        "    the_means = stacked_images.view(N_channels,-1).mean(dim=1)\n",
        "    print(\"The mean is: \",the_means)\n",
        "    the_stds = stacked_images.view(N_channels,-1).std(dim=1)\n",
        "    print(\"The standard deviation is: \",the_stds)\n",
        "    return the_means,the_stds\n"
      ],
      "execution_count": 5,
      "outputs": []
    },
    {
      "cell_type": "code",
      "metadata": {
        "id": "ttvFSvazZH_N",
        "colab": {
          "base_uri": "https://localhost:8080/"
        },
        "outputId": "920b35f3-4824-4ec5-a301-0815e2448447"
      },
      "source": [
        "examine_data_set(train=FASHION_MNIST_train,test=FASHION_MNIST_test)"
      ],
      "execution_count": 6,
      "outputs": [
        {
          "output_type": "stream",
          "name": "stdout",
          "text": [
            "There are 60000 training data samples and 10000 data samples for testing.\n"
          ]
        }
      ]
    },
    {
      "cell_type": "code",
      "metadata": {
        "id": "0j_j-nBzZcZb",
        "colab": {
          "base_uri": "https://localhost:8080/"
        },
        "outputId": "f5947a03-4c0c-449a-fe92-4bf7d99efa44"
      },
      "source": [
        "show_batch_example(train=tensor_FASHION_MNIST_train,N=3)"
      ],
      "execution_count": 7,
      "outputs": [
        {
          "output_type": "stream",
          "name": "stdout",
          "text": [
            "We fetched a single batch of 3 randomly selected samples.\n",
            "The shape of the data batch is: torch.Size([3, 1, 28, 28])\n",
            "The shape of the labels for that batch is: torch.Size([3])\n"
          ]
        }
      ]
    },
    {
      "cell_type": "code",
      "metadata": {
        "id": "yjjFQ2rFaf2l",
        "colab": {
          "base_uri": "https://localhost:8080/",
          "height": 316
        },
        "outputId": "a42e4dd3-02a2-47dd-fd45-23fe28444ebe"
      },
      "source": [
        "one_example(class_names=FASHION_MNIST_CLASS_NAMES,train=FASHION_MNIST_train)"
      ],
      "execution_count": 8,
      "outputs": [
        {
          "output_type": "stream",
          "name": "stdout",
          "text": [
            "Randomly fetched image train[53829]. Type is <class 'PIL.Image.Image'>.\n",
            "Class index = 1, Label = Trouser\n"
          ]
        },
        {
          "output_type": "display_data",
          "data": {
            "image/png": "[encoded data removed]",
            "text/plain": [
              "<Figure size 432x288 with 1 Axes>"
            ]
          },
          "metadata": {
            "needs_background": "light"
          }
        },
        {
          "output_type": "execute_result",
          "data": {
            "text/plain": [
              "(<PIL.Image.Image image mode=L size=28x28 at 0x7FC898282E10>, 1)"
            ]
          },
          "metadata": {},
          "execution_count": 8
        }
      ]
    },
    {
      "cell_type": "code",
      "metadata": {
        "id": "G8sCJvujakyR",
        "colab": {
          "base_uri": "https://localhost:8080/"
        },
        "outputId": "9edff7fe-7e01-4e60-f9dc-5e2b27995edd"
      },
      "source": [
        "mean,std = get_mean_and_std(train=tensor_FASHION_MNIST_train,N_channels=1)"
      ],
      "execution_count": 9,
      "outputs": [
        {
          "output_type": "stream",
          "name": "stdout",
          "text": [
            "The stacked images for all of the training data set has shape torch.Size([1, 28, 28, 60000]).\n",
            "The mean is:  tensor([0.2860])\n",
            "The standard deviation is:  tensor([0.3530])\n"
          ]
        }
      ]
    },
    {
      "cell_type": "code",
      "metadata": {
        "id": "zwZKZF11bC0I"
      },
      "source": [
        "class two_convolutional_layers_two_hidden_layers_model(nn.Module):\n",
        "\n",
        "    '''Class with TWO hidden layers, also written with functional \n",
        "    counterparts for max pooling, activations, and flattening to make\n",
        "    the definition more concise and to be more clear where parameters\n",
        "    are important or not.'''\n",
        "\n",
        "    def __init__(self,input_image_channels,image_size,k_outputs,first_hidden_layer_units=64,second_hidden_layer_units=32):\n",
        "        super().__init__()\n",
        "        assert image_size % 4 == 0,f\"Image size should be a multiple of 4, not {image_size}.\"\n",
        "        self.image_size = image_size\n",
        "        image_size_after_two_max_pool2ds = int(image_size / 4)\n",
        "        self.image_size_after_two_max_pool2ds = int(image_size / 4)\n",
        "        self.first_convolutional_layer = nn.Conv2d(in_channels=input_image_channels,out_channels=64,kernel_size=3,padding=1)\n",
        "        self.second_convolutional_layer = nn.Conv2d(in_channels=64,out_channels=32,kernel_size=3,padding=1)\n",
        "        self.flattening_for_linear = nn.Flatten()\n",
        "        self.first_hidden_layer = nn.Linear(in_features = 32 * image_size_after_two_max_pool2ds * image_size_after_two_max_pool2ds, out_features = first_hidden_layer_units)\n",
        "        self.second_hidden_layer = nn.Linear(in_features = first_hidden_layer_units, out_features = second_hidden_layer_units)\n",
        "        self.output_layer = nn.Linear(in_features = second_hidden_layer_units, out_features = k_outputs)\n",
        "        self.logits_output_layer = nn.LogSoftmax(dim=1)\n",
        "\n",
        "    def forward(self,x):\n",
        "        out = F.max_pool2d(torch.tanh(self.first_convolutional_layer(x)), 2)\n",
        "        out = F.max_pool2d(torch.tanh(self.second_convolutional_layer(out)), 2)   \n",
        "        out = self.flattening_for_linear(out)\n",
        "        out = torch.tanh(self.first_hidden_layer(out))\n",
        "        out = torch.tanh(self.second_hidden_layer(out))\n",
        "        out = self.output_layer(out)\n",
        "        out = self.logits_output_layer(out)\n",
        "        return out"
      ],
      "execution_count": 10,
      "outputs": []
    },
    {
      "cell_type": "code",
      "metadata": {
        "id": "asloP-yWdxKK"
      },
      "source": [
        "def train_model(training_data_set, validation_data_set,n_input_channels,image_size,n_outputs,\n",
        "                         epochs=N_EPOCHS,learning_rate=1e-2):\n",
        "    model = image_neural_net_classifier(n_input_channels,image_size,n_outputs)\n",
        "    # if we are running on a GPU, move the model over before creating the optimizer,\n",
        "    # which will grab the model's parameters.\n",
        "    model = model.to(device=device)\n",
        "    optimizer = torch.optim.SGD(model.parameters(), lr=learning_rate)\n",
        "    loss_fn = nn.NLLLoss()\n",
        "    training_loop(training_data_set, validation_data_set, model, loss_fn, optimizer,epochs)    \n",
        "    return model,optimizer,loss_fn\n",
        "\n",
        "def image_neural_net_classifier(n_input_channels,image_size,n_outputs,hidden_layer_units=30):\n",
        "    # small model:\n",
        "    # model = create_two_convolutional_layer_one_hidden_layer_model(n_input_channels,image_size,n_outputs,hidden_layer_units)\n",
        "    # large model:\n",
        "    model = two_convolutional_layers_two_hidden_layers_model(n_input_channels,image_size,n_outputs)\n",
        "    return model\n",
        "\n",
        "def training_loop(training_data_set, validation_data_set, model, loss_fn, optimizer,\n",
        "                            n_epochs=N_EPOCHS,batch_size=64,show_sizes=True):\n",
        "\n",
        "    start_time = time.time()\n",
        "    \n",
        "    # prepare for training\n",
        "    model.train()\n",
        "\n",
        "    train_data_loader = DataLoader(training_data_set, batch_size = batch_size, shuffle=True)\n",
        "\n",
        "    n_images = len(training_data_set)\n",
        "\n",
        "    for epoch in range(n_epochs):\n",
        "        loss_for_this_epoch = 0\n",
        "        for images, labels in train_data_loader:\n",
        "\n",
        "            if show_sizes and epoch == 0:\n",
        "                print(f\"For one batch, images has shape {images.shape}\")\n",
        "                print(f\"For one batch, labels has shape {labels.shape}\")\n",
        "\n",
        "            # run the neural net model on the current batch.\n",
        "            # after first moving the data to the GPU, if we are\n",
        "            # running on one.\n",
        "            images = images.to(device=device)\n",
        "            labels = labels.to(device=device)\n",
        "            outputs = model(images)\n",
        "\n",
        "            # optional tracing\n",
        "            if show_sizes and epoch == 0:\n",
        "                print(f\"For one batch, outputs has shape {outputs.shape}\")\n",
        "                show_sizes=False\n",
        "\n",
        "            # find the loss for this batch and update that for the epoch\n",
        "            batch_loss = loss_fn(outputs, labels)\n",
        "\n",
        "            # update stats for loss\n",
        "            loss_for_this_epoch += batch_loss\n",
        "\n",
        "            # update the model for this batch\n",
        "            optimizer.zero_grad()\n",
        "            batch_loss.backward()\n",
        "            optimizer.step()\n",
        "\n",
        "        average_loss = loss_for_this_epoch / len(train_data_loader)\n",
        "        print(f\"Epoch: {epoch}, Average loss per image for this epoch, current batch in training data: {average_loss:.6f}, over {n_images} images.\")\n",
        "\n",
        "        if epoch % 5 == 0:\n",
        "            validate_accuracy_from_data_sets(model,training_data_set,validation_data_set)\n",
        "\n",
        "    # Finish by showing accuracy, if we didn't just do that.\n",
        "    if epoch % 5 != 0:\n",
        "        validate_accuracy_from_data_sets(model,training_data_set,validation_data_set)    \n",
        "\n",
        "    end_time = time.time()\n",
        "    delta_time = end_time - start_time\n",
        "\n",
        "    # done training, for now at least!\n",
        "    model.eval()\n",
        "\n",
        "    if n_epochs > 0:\n",
        "        print(f\"Finished in {delta_time:.2f} seconds, or {delta_time/n_epochs:.2f} seconds / epoch.\")\n",
        "\n",
        "def validate_accuracy_from_data_sets(model,training_data_set,validation_data_set,batch_size=64):\n",
        "    print(\"Checking accuracy...\")\n",
        "    train_loader = DataLoader(training_data_set, batch_size = batch_size, shuffle=True)\n",
        "    val_loader = DataLoader(validation_data_set, batch_size = batch_size, shuffle=True)    \n",
        "    validate_accuracy(model,train_loader,val_loader)\n",
        "\n",
        "def validate_accuracy(model, train_loader, val_loader):\n",
        "    for name, loader in [(\"Train\",train_loader),(\"Validation\",val_loader)]:\n",
        "        correct = 0\n",
        "        total = 0\n",
        "\n",
        "        with torch.no_grad():\n",
        "            for images, labels in loader:\n",
        "\n",
        "                # run the neural net model on the current batch.\n",
        "                # after first moving the data to the GPU, if we are\n",
        "                # running on one.\n",
        "                images = images.to(device=device)\n",
        "                labels = labels.to(device=device)\n",
        "\n",
        "                outputs = model(images)\n",
        "                _, predicted = torch.max(outputs, dim=1)\n",
        "\n",
        "                total += labels.shape[0]\n",
        "                correct += int((predicted == labels).sum())\n",
        "\n",
        "            print(f\"Accuracy on {name} Set: {correct / total:.2f}\")\n",
        "\n",
        "\n",
        "def run_model(model,class_names,validation_set,original_image_set,n=5):\n",
        "    '''Pick N examples from the validation set\n",
        "    and display them using the corresponding original image set'''\n",
        "    print(f\"\\nShowing {n} examples of model performance, taken randomly from the validation set.\\n\")\n",
        "    for i in range(n):\n",
        "        tensor_from_image,label = validation_set[i]\n",
        "        best_class_name = class_names[label]\n",
        "        print(f\"Image {i}. Correct label = {best_class_name}, Class Index = {label}\")\n",
        "        prediction = run_one_data_sample_with_model(model,tensor_from_image)\n",
        "        probabilities = prediction.exp()\n",
        "        print(f\"Prediction: {probabilities}\")\n",
        "        print_image_and_prediction_details(class_names,prediction,probabilities,original_image_set,i)\n",
        "\n",
        "def run_one_data_sample_with_model(model,tensor_data_sample):\n",
        "    '''Takes a single data sample and returns the model output,\n",
        "    typical a log softmax, for the single data sample. Handles\n",
        "    the bundling and unbundling of the data sample into and\n",
        "    out of a one-element minibatch.'''\n",
        "    #  add [] around data sample with unsqueeze to turn it into a single minibatch\n",
        "    singleton_batch_input = tensor_data_sample.unsqueeze(0)\n",
        "    with torch.no_grad():\n",
        "        model = model.to(device)\n",
        "        batch_of_one_image_tensor = singleton_batch_input.to(device)\n",
        "        singleton_batch_output = model(batch_of_one_image_tensor)\n",
        "        output = singleton_batch_output.detach() # note the returned tensor still shares memory w the original\n",
        "        output = output.squeeze(0)               # unbundle from minibatch of outputs, remove []\n",
        "        return output.to('cpu')\n",
        "\n",
        "def print_image_and_prediction_details(class_names,prediction,probabilities,original_image_set,index):\n",
        "    print_image_class(class_names,prediction,probabilities)\n",
        "    show_original_image(original_image_set,index)\n",
        "    print_class_predicted(class_names,probabilities)\n",
        "\n",
        "def print_image_class(class_names,prediction,probabilities):\n",
        "    print(f\"Predictions: {prediction}\")\n",
        "    print_class_probabilities(class_names,probabilities)\n",
        "\n",
        "def show_original_image(original_image_set,index):\n",
        "    original_image,_ = original_image_set[index]\n",
        "    plt.imshow(original_image)\n",
        "    plt.show()"
      ],
      "execution_count": 11,
      "outputs": []
    },
    {
      "cell_type": "code",
      "metadata": {
        "id": "Tguq1vJYdHPv"
      },
      "source": [
        "\n",
        "def print_class_predicted(class_names,probabilities):\n",
        "    best_index,predicted_label = best_class_prediction(class_names,probabilities)\n",
        "    print(f\"Predicted Label = {predicted_label}, Class Index = {best_index}\\n\")\n",
        "\n",
        "def show_mistakes(model,class_names,validation_set,original_image_set,n=10):\n",
        "    '''Show the first N mistakes found from the validation set\n",
        "    and display them using the corresponding original image set'''\n",
        "    i = 0\n",
        "    print(f\"\\nFinding {n} examples where the model predicted incorrectly.\\n\")\n",
        "    mistakes_found = 0\n",
        "    max_i = len(validation_set)\n",
        "    while i < max_i and mistakes_found < n:\n",
        "        tensor_from_image,label = validation_set[i] # label is the index of the classes and indicates the correct class\n",
        "        prediction = run_one_data_sample_with_model(model,tensor_from_image)\n",
        "        probabilities = prediction.exp()\n",
        "        best_index,predicted_label = best_class_prediction(class_names,probabilities)\n",
        "        if best_index != label:\n",
        "            mistakes_found += 1\n",
        "            correct_class_name = class_names[label]\n",
        "            print(f\"\\nMistake {mistakes_found}. Image {i}. Correct Label = {correct_class_name}, Class Index {label}. Predicted: {predicted_label}, Class Index {best_index}. Oops!\")\n",
        "            print_image_and_prediction_details(class_names,prediction,probabilities,original_image_set,i)\n",
        "            if mistakes_found >= n:\n",
        "                print(f\"Found {mistakes_found} mistakes after examining {i} images.\")\n",
        "                return mistakes_found\n",
        "        i += 1\n",
        "    print(f\"Found {mistakes_found} mistakes total, could not find {n}, after examining {i} images.\")        \n",
        "    return mistakes_found\n",
        "        \n",
        "def print_class_probabilities(class_names,probs):\n",
        "    for name,prob in zip(class_names,probs):\n",
        "        print(f\"Class {name}: {prob:.2%}\")\n",
        "\n",
        "def best_class_prediction(class_names,probs,show_details=False):\n",
        "    highest_class_prob,best_index = probs.max(dim=0)\n",
        "    highest_class_prob,best_index = highest_class_prob.numpy(),best_index.numpy()\n",
        "    highest_class_prob,best_class_index = float(highest_class_prob),int(best_index)\n",
        "    if show_details:\n",
        "        print(f\"Best class index for the label is class {best_class_index} with probability {highest_class_prob:.2%}\")\n",
        "    best_class_name = class_names[best_class_index]\n",
        "    return best_class_index,best_class_name\n"
      ],
      "execution_count": 12,
      "outputs": []
    },
    {
      "cell_type": "code",
      "metadata": {
        "id": "sLf6K3uodQwH"
      },
      "source": [
        "def train_Fashion_MNIST_model():\n",
        "    input_channels = 1\n",
        "    n_outputs = 10\n",
        "    image_size = 28\n",
        "    model,_,_ =  train_model(tensor_FASHION_MNIST_train,tensor_FASHION_MNIST_test,input_channels,image_size,n_outputs)\n",
        "    class_names = FASHION_MNIST_CLASS_NAMES\n",
        "    return model\n",
        "\n",
        "def show_Fashion_MNIST_demo(model):\n",
        "    model.eval()\n",
        "\n",
        "    class_names = FASHION_MNIST_CLASS_NAMES\n",
        "    \n",
        "    # show 5 random examples of the model runningup\n",
        "    run_model(model,class_names,tensor_FASHION_MNIST_test,FASHION_MNIST_test,n=5)\n",
        "\n",
        "    # show 5 examples of when it predicts the incorrect result\n",
        "    show_mistakes(model,class_names,tensor_FASHION_MNIST_test,FASHION_MNIST_test,n=25)\n"
      ],
      "execution_count": 13,
      "outputs": []
    },
    {
      "cell_type": "code",
      "metadata": {
        "colab": {
          "base_uri": "https://localhost:8080/"
        },
        "id": "Ew02XcuadXiu",
        "outputId": "01650d64-efba-4481-cb47-94926b799b22"
      },
      "source": [
        "trained_model = train_Fashion_MNIST_model()"
      ],
      "execution_count": 14,
      "outputs": [
        {
          "output_type": "stream",
          "name": "stdout",
          "text": [
            "For one batch, images has shape torch.Size([64, 1, 28, 28])\n",
            "For one batch, labels has shape torch.Size([64])\n",
            "For one batch, outputs has shape torch.Size([64, 10])\n",
            "Epoch: 0, Average loss per image for this epoch, current batch in training data: 1.390850, over 60000 images.\n",
            "Checking accuracy...\n",
            "Accuracy on Train Set: 0.71\n",
            "Accuracy on Validation Set: 0.70\n",
            "Epoch: 1, Average loss per image for this epoch, current batch in training data: 0.729382, over 60000 images.\n",
            "Epoch: 2, Average loss per image for this epoch, current batch in training data: 0.576114, over 60000 images.\n",
            "Epoch: 3, Average loss per image for this epoch, current batch in training data: 0.503658, over 60000 images.\n",
            "Epoch: 4, Average loss per image for this epoch, current batch in training data: 0.455865, over 60000 images.\n",
            "Epoch: 5, Average loss per image for this epoch, current batch in training data: 0.420778, over 60000 images.\n",
            "Checking accuracy...\n",
            "Accuracy on Train Set: 0.86\n",
            "Accuracy on Validation Set: 0.85\n",
            "Epoch: 6, Average loss per image for this epoch, current batch in training data: 0.393789, over 60000 images.\n",
            "Epoch: 7, Average loss per image for this epoch, current batch in training data: 0.372099, over 60000 images.\n",
            "Epoch: 8, Average loss per image for this epoch, current batch in training data: 0.353357, over 60000 images.\n",
            "Epoch: 9, Average loss per image for this epoch, current batch in training data: 0.339701, over 60000 images.\n",
            "Epoch: 10, Average loss per image for this epoch, current batch in training data: 0.328044, over 60000 images.\n",
            "Checking accuracy...\n",
            "Accuracy on Train Set: 0.88\n",
            "Accuracy on Validation Set: 0.87\n",
            "Epoch: 11, Average loss per image for this epoch, current batch in training data: 0.318120, over 60000 images.\n",
            "Epoch: 12, Average loss per image for this epoch, current batch in training data: 0.308438, over 60000 images.\n",
            "Epoch: 13, Average loss per image for this epoch, current batch in training data: 0.300465, over 60000 images.\n",
            "Epoch: 14, Average loss per image for this epoch, current batch in training data: 0.293824, over 60000 images.\n",
            "Epoch: 15, Average loss per image for this epoch, current batch in training data: 0.286751, over 60000 images.\n",
            "Checking accuracy...\n",
            "Accuracy on Train Set: 0.90\n",
            "Accuracy on Validation Set: 0.89\n",
            "Epoch: 16, Average loss per image for this epoch, current batch in training data: 0.281773, over 60000 images.\n",
            "Epoch: 17, Average loss per image for this epoch, current batch in training data: 0.274906, over 60000 images.\n",
            "Epoch: 18, Average loss per image for this epoch, current batch in training data: 0.269128, over 60000 images.\n",
            "Epoch: 19, Average loss per image for this epoch, current batch in training data: 0.264633, over 60000 images.\n",
            "Checking accuracy...\n",
            "Accuracy on Train Set: 0.91\n",
            "Accuracy on Validation Set: 0.89\n",
            "Finished in 238.66 seconds, or 11.93 seconds / epoch.\n"
          ]
        }
      ]
    },
    {
      "cell_type": "code",
      "metadata": {
        "id": "2VzexMKpgXux",
        "colab": {
          "base_uri": "https://localhost:8080/",
          "height": 1000
        },
        "outputId": "93326cc0-9f61-4a20-e678-03605356ad7b"
      },
      "source": [
        "device = 'cuda'\n",
        "show_Fashion_MNIST_demo(trained_model)"
      ],
      "execution_count": 15,
      "outputs": [
        {
          "output_type": "stream",
          "name": "stdout",
          "text": [
            "\n",
            "Showing 5 examples of model performance, taken randomly from the validation set.\n",
            "\n",
            "Image 0. Correct label = Ankle boot, Class Index = 9\n",
            "Prediction: tensor([9.4568e-06, 2.8169e-04, 8.6360e-06, 1.6466e-04, 2.3147e-04, 5.1614e-03,\n",
            "        2.9117e-05, 9.1985e-03, 1.3895e-03, 9.8353e-01])\n",
            "Predictions: tensor([-11.5688,  -8.1747, -11.6596,  -8.7116,  -8.3711,  -5.2666, -10.4442,\n",
            "         -4.6887,  -6.5788,  -0.0166])\n",
            "Class 0: 0.00%\n",
            "Class 1: 0.03%\n",
            "Class 2: 0.00%\n",
            "Class 3: 0.02%\n",
            "Class 4: 0.02%\n",
            "Class 5: 0.52%\n",
            "Class 6: 0.00%\n",
            "Class 7: 0.92%\n",
            "Class 8: 0.14%\n",
            "Class 9: 98.35%\n"
          ]
        },
        {
          "output_type": "display_data",
          "data": {
            "image/png": "[encoded data removed]",
            "text/plain": [
              "<Figure size 432x288 with 1 Axes>"
            ]
          },
          "metadata": {
            "needs_background": "light"
          }
        },
        {
          "output_type": "stream",
          "name": "stdout",
          "text": [
            "Predicted Label = Ankle boot, Class Index = 9\n",
            "\n",
            "Image 1. Correct label = Pullover, Class Index = 2\n",
            "Prediction: tensor([2.1223e-03, 1.4244e-04, 9.8902e-01, 8.6067e-05, 4.2765e-03, 1.4440e-04,\n",
            "        4.0182e-03, 4.2821e-06, 1.8744e-04, 2.3685e-06])\n",
            "Predictions: tensor([-6.1553e+00, -8.8566e+00, -1.1045e-02, -9.3604e+00, -5.4546e+00,\n",
            "        -8.8429e+00, -5.5169e+00, -1.2361e+01, -8.5821e+00, -1.2953e+01])\n",
            "Class 0: 0.21%\n",
            "Class 1: 0.01%\n",
            "Class 2: 98.90%\n",
            "Class 3: 0.01%\n",
            "Class 4: 0.43%\n",
            "Class 5: 0.01%\n",
            "Class 6: 0.40%\n",
            "Class 7: 0.00%\n",
            "Class 8: 0.02%\n",
            "Class 9: 0.00%\n"
          ]
        },
        {
          "output_type": "display_data",
          "data": {
            "image/png": "[encoded data removed]",
            "text/plain": [
              "<Figure size 432x288 with 1 Axes>"
            ]
          },
          "metadata": {
            "needs_background": "light"
          }
        },
        {
          "output_type": "stream",
          "name": "stdout",
          "text": [
            "Predicted Label = Pullover, Class Index = 2\n",
            "\n",
            "Image 2. Correct label = Trouser, Class Index = 1\n",
            "Prediction: tensor([7.0049e-04, 9.9752e-01, 5.8863e-05, 5.0382e-04, 4.2938e-04, 4.2662e-05,\n",
            "        2.7204e-05, 4.7887e-04, 3.0824e-05, 2.0960e-04])\n",
            "Predictions: tensor([-7.2637e+00, -2.4849e-03, -9.7403e+00, -7.5933e+00, -7.7532e+00,\n",
            "        -1.0062e+01, -1.0512e+01, -7.6441e+00, -1.0387e+01, -8.4703e+00])\n",
            "Class 0: 0.07%\n",
            "Class 1: 99.75%\n",
            "Class 2: 0.01%\n",
            "Class 3: 0.05%\n",
            "Class 4: 0.04%\n",
            "Class 5: 0.00%\n",
            "Class 6: 0.00%\n",
            "Class 7: 0.05%\n",
            "Class 8: 0.00%\n",
            "Class 9: 0.02%\n"
          ]
        },
        {
          "output_type": "display_data",
          "data": {
            "image/png": "[encoded data removed]",
            "text/plain": [
              "<Figure size 432x288 with 1 Axes>"
            ]
          },
          "metadata": {
            "needs_background": "light"
          }
        },
        {
          "output_type": "stream",
          "name": "stdout",
          "text": [
            "Predicted Label = Trouser, Class Index = 1\n",
            "\n",
            "Image 3. Correct label = Trouser, Class Index = 1\n",
            "Prediction: tensor([1.3674e-04, 9.9797e-01, 4.5380e-05, 9.3084e-04, 3.5193e-04, 1.8738e-05,\n",
            "        6.6710e-06, 2.5886e-04, 4.9005e-06, 2.7358e-04])\n",
            "Predictions: tensor([-8.8974e+00, -2.0297e-03, -1.0000e+01, -6.9794e+00, -7.9521e+00,\n",
            "        -1.0885e+01, -1.1918e+01, -8.2592e+00, -1.2226e+01, -8.2039e+00])\n",
            "Class 0: 0.01%\n",
            "Class 1: 99.80%\n",
            "Class 2: 0.00%\n",
            "Class 3: 0.09%\n",
            "Class 4: 0.04%\n",
            "Class 5: 0.00%\n",
            "Class 6: 0.00%\n",
            "Class 7: 0.03%\n",
            "Class 8: 0.00%\n",
            "Class 9: 0.03%\n"
          ]
        },
        {
          "output_type": "display_data",
          "data": {
            "image/png": "[encoded data removed]",
            "text/plain": [
              "<Figure size 432x288 with 1 Axes>"
            ]
          },
          "metadata": {
            "needs_background": "light"
          }
        },
        {
          "output_type": "stream",
          "name": "stdout",
          "text": [
            "Predicted Label = Trouser, Class Index = 1\n",
            "\n",
            "Image 4. Correct label = Shirt, Class Index = 6\n",
            "Prediction: tensor([7.6977e-02, 5.6695e-05, 1.0848e-02, 1.9680e-03, 1.3109e-03, 5.9012e-05,\n",
            "        9.0811e-01, 1.3407e-05, 6.5413e-04, 1.9600e-06])\n",
            "Predictions: tensor([ -2.5642,  -9.7778,  -4.5238,  -6.2307,  -6.6371,  -9.7378,  -0.0964,\n",
            "        -11.2197,  -7.3322, -13.1425])\n",
            "Class 0: 7.70%\n",
            "Class 1: 0.01%\n",
            "Class 2: 1.08%\n",
            "Class 3: 0.20%\n",
            "Class 4: 0.13%\n",
            "Class 5: 0.01%\n",
            "Class 6: 90.81%\n",
            "Class 7: 0.00%\n",
            "Class 8: 0.07%\n",
            "Class 9: 0.00%\n"
          ]
        },
        {
          "output_type": "display_data",
          "data": {
            "image/png": "[encoded data removed]",
            "text/plain": [
              "<Figure size 432x288 with 1 Axes>"
            ]
          },
          "metadata": {
            "needs_background": "light"
          }
        },
        {
          "output_type": "stream",
          "name": "stdout",
          "text": [
            "Predicted Label = Shirt, Class Index = 6\n",
            "\n",
            "\n",
            "Finding 25 examples where the model predicted incorrectly.\n",
            "\n",
            "\n",
            "Mistake 1. Image 12. Correct Label = Sneaker, Class Index 7. Predicted: Sandal, Class Index 5. Oops!\n",
            "Predictions: tensor([-7.9549, -5.9190, -7.1017, -5.4477, -6.7735, -0.6383, -9.5646, -1.0113,\n",
            "        -2.4297, -4.5473])\n",
            "Class 0: 0.04%\n",
            "Class 1: 0.27%\n",
            "Class 2: 0.08%\n",
            "Class 3: 0.43%\n",
            "Class 4: 0.11%\n",
            "Class 5: 52.82%\n",
            "Class 6: 0.01%\n",
            "Class 7: 36.37%\n",
            "Class 8: 8.81%\n",
            "Class 9: 1.06%\n"
          ]
        },
        {
          "output_type": "display_data",
          "data": {
            "image/png": "[encoded data removed]",
            "text/plain": [
              "<Figure size 432x288 with 1 Axes>"
            ]
          },
          "metadata": {
            "needs_background": "light"
          }
        },
        {
          "output_type": "stream",
          "name": "stdout",
          "text": [
            "Predicted Label = Sandal, Class Index = 5\n",
            "\n",
            "\n",
            "Mistake 2. Image 21. Correct Label = Sandal, Class Index 5. Predicted: Sneaker, Class Index 7. Oops!\n",
            "Predictions: tensor([-9.3441, -6.6837, -8.8651, -7.3140, -7.6276, -1.0884, -9.3906, -0.4455,\n",
            "        -4.7359, -4.4867])\n",
            "Class 0: 0.01%\n",
            "Class 1: 0.13%\n",
            "Class 2: 0.01%\n",
            "Class 3: 0.07%\n",
            "Class 4: 0.05%\n",
            "Class 5: 33.67%\n",
            "Class 6: 0.01%\n",
            "Class 7: 64.05%\n",
            "Class 8: 0.88%\n",
            "Class 9: 1.13%\n"
          ]
        },
        {
          "output_type": "display_data",
          "data": {
            "image/png": "[encoded data removed]",
            "text/plain": [
              "<Figure size 432x288 with 1 Axes>"
            ]
          },
          "metadata": {
            "needs_background": "light"
          }
        },
        {
          "output_type": "stream",
          "name": "stdout",
          "text": [
            "Predicted Label = Sneaker, Class Index = 7\n",
            "\n",
            "\n",
            "Mistake 3. Image 23. Correct Label = Ankle boot, Class Index 9. Predicted: Sandal, Class Index 5. Oops!\n",
            "Predictions: tensor([-1.1079e+01, -9.4933e+00, -1.0813e+01, -1.0326e+01, -1.1864e+01,\n",
            "        -4.9031e-03, -1.0761e+01, -6.4952e+00, -7.9168e+00, -5.8625e+00])\n",
            "Class 0: 0.00%\n",
            "Class 1: 0.01%\n",
            "Class 2: 0.00%\n",
            "Class 3: 0.00%\n",
            "Class 4: 0.00%\n",
            "Class 5: 99.51%\n",
            "Class 6: 0.00%\n",
            "Class 7: 0.15%\n",
            "Class 8: 0.04%\n",
            "Class 9: 0.28%\n"
          ]
        },
        {
          "output_type": "display_data",
          "data": {
            "image/png": "[encoded data removed]",
            "text/plain": [
              "<Figure size 432x288 with 1 Axes>"
            ]
          },
          "metadata": {
            "needs_background": "light"
          }
        },
        {
          "output_type": "stream",
          "name": "stdout",
          "text": [
            "Predicted Label = Sandal, Class Index = 5\n",
            "\n",
            "\n",
            "Mistake 4. Image 25. Correct Label = Coat, Class Index 4. Predicted: Pullover, Class Index 2. Oops!\n",
            "Predictions: tensor([ -5.1894,  -7.6363,  -0.4516,  -6.9566,  -2.3907,  -7.1329,  -1.3418,\n",
            "        -10.8558,  -5.9459, -10.9503])\n",
            "Class 0: 0.56%\n",
            "Class 1: 0.05%\n",
            "Class 2: 63.66%\n",
            "Class 3: 0.10%\n",
            "Class 4: 9.16%\n",
            "Class 5: 0.08%\n",
            "Class 6: 26.14%\n",
            "Class 7: 0.00%\n",
            "Class 8: 0.26%\n",
            "Class 9: 0.00%\n"
          ]
        },
        {
          "output_type": "display_data",
          "data": {
            "image/png": "[encoded data removed]",
            "text/plain": [
              "<Figure size 432x288 with 1 Axes>"
            ]
          },
          "metadata": {
            "needs_background": "light"
          }
        },
        {
          "output_type": "stream",
          "name": "stdout",
          "text": [
            "Predicted Label = Pullover, Class Index = 2\n",
            "\n",
            "\n",
            "Mistake 5. Image 40. Correct Label = Shirt, Class Index 6. Predicted: T-shirt/top, Class Index 0. Oops!\n",
            "Predictions: tensor([ -0.3506,  -9.2273,  -6.0270,  -7.1641,  -8.2618, -11.0156,  -1.2358,\n",
            "        -10.5690,  -6.4846, -11.7584])\n",
            "Class 0: 70.43%\n",
            "Class 1: 0.01%\n",
            "Class 2: 0.24%\n",
            "Class 3: 0.08%\n",
            "Class 4: 0.03%\n",
            "Class 5: 0.00%\n",
            "Class 6: 29.06%\n",
            "Class 7: 0.00%\n",
            "Class 8: 0.15%\n",
            "Class 9: 0.00%\n"
          ]
        },
        {
          "output_type": "display_data",
          "data": {
            "image/png": "[encoded data removed]",
            "text/plain": [
              "<Figure size 432x288 with 1 Axes>"
            ]
          },
          "metadata": {
            "needs_background": "light"
          }
        },
        {
          "output_type": "stream",
          "name": "stdout",
          "text": [
            "Predicted Label = T-shirt/top, Class Index = 0\n",
            "\n",
            "\n",
            "Mistake 6. Image 42. Correct Label = Dress, Class Index 3. Predicted: T-shirt/top, Class Index 0. Oops!\n",
            "Predictions: tensor([ -0.5108,  -4.8329,  -4.3460,  -1.8745,  -5.3448,  -8.6282,  -1.5185,\n",
            "         -8.1495,  -6.6341, -11.1431])\n",
            "Class 0: 60.00%\n",
            "Class 1: 0.80%\n",
            "Class 2: 1.30%\n",
            "Class 3: 15.34%\n",
            "Class 4: 0.48%\n",
            "Class 5: 0.02%\n",
            "Class 6: 21.90%\n",
            "Class 7: 0.03%\n",
            "Class 8: 0.13%\n",
            "Class 9: 0.00%\n"
          ]
        },
        {
          "output_type": "display_data",
          "data": {
            "image/png": "[encoded data removed]",
            "text/plain": [
              "<Figure size 432x288 with 1 Axes>"
            ]
          },
          "metadata": {
            "needs_background": "light"
          }
        },
        {
          "output_type": "stream",
          "name": "stdout",
          "text": [
            "Predicted Label = T-shirt/top, Class Index = 0\n",
            "\n",
            "\n",
            "Mistake 7. Image 49. Correct Label = Pullover, Class Index 2. Predicted: Shirt, Class Index 6. Oops!\n",
            "Predictions: tensor([ -3.2352,  -9.1083,  -1.6603,  -4.9528,  -4.2461,  -6.3574,  -0.3030,\n",
            "        -11.0103,  -4.7428, -11.3121])\n",
            "Class 0: 3.94%\n",
            "Class 1: 0.01%\n",
            "Class 2: 19.01%\n",
            "Class 3: 0.71%\n",
            "Class 4: 1.43%\n",
            "Class 5: 0.17%\n",
            "Class 6: 73.86%\n",
            "Class 7: 0.00%\n",
            "Class 8: 0.87%\n",
            "Class 9: 0.00%\n"
          ]
        },
        {
          "output_type": "display_data",
          "data": {
            "image/png": "[encoded data removed]",
            "text/plain": [
              "<Figure size 432x288 with 1 Axes>"
            ]
          },
          "metadata": {
            "needs_background": "light"
          }
        },
        {
          "output_type": "stream",
          "name": "stdout",
          "text": [
            "Predicted Label = Shirt, Class Index = 6\n",
            "\n",
            "\n",
            "Mistake 8. Image 51. Correct Label = Coat, Class Index 4. Predicted: Shirt, Class Index 6. Oops!\n",
            "Predictions: tensor([ -5.8838,  -7.7727,  -1.1764,  -7.3261,  -1.0795,  -8.1903,  -1.0630,\n",
            "        -10.0845,  -6.1218,  -9.7054])\n",
            "Class 0: 0.28%\n",
            "Class 1: 0.04%\n",
            "Class 2: 30.84%\n",
            "Class 3: 0.07%\n",
            "Class 4: 33.98%\n",
            "Class 5: 0.03%\n",
            "Class 6: 34.54%\n",
            "Class 7: 0.00%\n",
            "Class 8: 0.22%\n",
            "Class 9: 0.01%\n"
          ]
        },
        {
          "output_type": "display_data",
          "data": {
            "image/png": "[encoded data removed]",
            "text/plain": [
              "<Figure size 432x288 with 1 Axes>"
            ]
          },
          "metadata": {
            "needs_background": "light"
          }
        },
        {
          "output_type": "stream",
          "name": "stdout",
          "text": [
            "Predicted Label = Shirt, Class Index = 6\n",
            "\n",
            "\n",
            "Mistake 9. Image 66. Correct Label = Pullover, Class Index 2. Predicted: T-shirt/top, Class Index 0. Oops!\n",
            "Predictions: tensor([ -1.1557,  -3.6495,  -2.2315,  -1.1766,  -4.0637,  -5.9626,  -1.5099,\n",
            "         -7.8614,  -6.0528, -10.2671])\n",
            "Class 0: 31.48%\n",
            "Class 1: 2.60%\n",
            "Class 2: 10.74%\n",
            "Class 3: 30.83%\n",
            "Class 4: 1.72%\n",
            "Class 5: 0.26%\n",
            "Class 6: 22.09%\n",
            "Class 7: 0.04%\n",
            "Class 8: 0.24%\n",
            "Class 9: 0.00%\n"
          ]
        },
        {
          "output_type": "display_data",
          "data": {
            "image/png": "[encoded data removed]",
            "text/plain": [
              "<Figure size 432x288 with 1 Axes>"
            ]
          },
          "metadata": {
            "needs_background": "light"
          }
        },
        {
          "output_type": "stream",
          "name": "stdout",
          "text": [
            "Predicted Label = T-shirt/top, Class Index = 0\n",
            "\n",
            "\n",
            "Mistake 10. Image 68. Correct Label = Ankle boot, Class Index 9. Predicted: Sneaker, Class Index 7. Oops!\n",
            "Predictions: tensor([-10.7224,  -7.7717, -11.0031,  -8.5203,  -8.0796,  -4.9170, -10.3665,\n",
            "         -0.0231,  -6.8833,  -4.3086])\n",
            "Class 0: 0.00%\n",
            "Class 1: 0.04%\n",
            "Class 2: 0.00%\n",
            "Class 3: 0.02%\n",
            "Class 4: 0.03%\n",
            "Class 5: 0.73%\n",
            "Class 6: 0.00%\n",
            "Class 7: 97.72%\n",
            "Class 8: 0.10%\n",
            "Class 9: 1.35%\n"
          ]
        },
        {
          "output_type": "display_data",
          "data": {
            "image/png": "[encoded data removed]",
            "text/plain": [
              "<Figure size 432x288 with 1 Axes>"
            ]
          },
          "metadata": {
            "needs_background": "light"
          }
        },
        {
          "output_type": "stream",
          "name": "stdout",
          "text": [
            "Predicted Label = Sneaker, Class Index = 7\n",
            "\n",
            "\n",
            "Mistake 11. Image 89. Correct Label = Shirt, Class Index 6. Predicted: Pullover, Class Index 2. Oops!\n",
            "Predictions: tensor([ -3.4731,  -8.7365,  -0.6511,  -5.7968,  -5.3299,  -6.9226,  -0.8340,\n",
            "        -11.5205,  -5.4829, -11.1799])\n",
            "Class 0: 3.10%\n",
            "Class 1: 0.02%\n",
            "Class 2: 52.15%\n",
            "Class 3: 0.30%\n",
            "Class 4: 0.48%\n",
            "Class 5: 0.10%\n",
            "Class 6: 43.43%\n",
            "Class 7: 0.00%\n",
            "Class 8: 0.42%\n",
            "Class 9: 0.00%\n"
          ]
        },
        {
          "output_type": "display_data",
          "data": {
            "image/png": "[encoded data removed]",
            "text/plain": [
              "<Figure size 432x288 with 1 Axes>"
            ]
          },
          "metadata": {
            "needs_background": "light"
          }
        },
        {
          "output_type": "stream",
          "name": "stdout",
          "text": [
            "Predicted Label = Pullover, Class Index = 2\n",
            "\n",
            "\n",
            "Mistake 12. Image 98. Correct Label = Coat, Class Index 4. Predicted: Pullover, Class Index 2. Oops!\n",
            "Predictions: tensor([-4.4847, -6.1672, -0.2114, -4.9752, -2.3980, -6.0395, -2.7943, -8.9113,\n",
            "        -4.1755, -8.0903])\n",
            "Class 0: 1.13%\n",
            "Class 1: 0.21%\n",
            "Class 2: 80.95%\n",
            "Class 3: 0.69%\n",
            "Class 4: 9.09%\n",
            "Class 5: 0.24%\n",
            "Class 6: 6.12%\n",
            "Class 7: 0.01%\n",
            "Class 8: 1.54%\n",
            "Class 9: 0.03%\n"
          ]
        },
        {
          "output_type": "display_data",
          "data": {
            "image/png": "[encoded data removed]",
            "text/plain": [
              "<Figure size 432x288 with 1 Axes>"
            ]
          },
          "metadata": {
            "needs_background": "light"
          }
        },
        {
          "output_type": "stream",
          "name": "stdout",
          "text": [
            "Predicted Label = Pullover, Class Index = 2\n",
            "\n",
            "\n",
            "Mistake 13. Image 103. Correct Label = Pullover, Class Index 2. Predicted: Shirt, Class Index 6. Oops!\n",
            "Predictions: tensor([ -2.6479,  -8.1888,  -1.1531,  -5.4307,  -4.7820,  -7.8355,  -0.5127,\n",
            "        -11.3724,  -6.7336, -12.1312])\n",
            "Class 0: 7.08%\n",
            "Class 1: 0.03%\n",
            "Class 2: 31.57%\n",
            "Class 3: 0.44%\n",
            "Class 4: 0.84%\n",
            "Class 5: 0.04%\n",
            "Class 6: 59.89%\n",
            "Class 7: 0.00%\n",
            "Class 8: 0.12%\n",
            "Class 9: 0.00%\n"
          ]
        },
        {
          "output_type": "display_data",
          "data": {
            "image/png": "[encoded data removed]",
            "text/plain": [
              "<Figure size 432x288 with 1 Axes>"
            ]
          },
          "metadata": {
            "needs_background": "light"
          }
        },
        {
          "output_type": "stream",
          "name": "stdout",
          "text": [
            "Predicted Label = Shirt, Class Index = 6\n",
            "\n",
            "\n",
            "Mistake 14. Image 107. Correct Label = Ankle boot, Class Index 9. Predicted: Sneaker, Class Index 7. Oops!\n",
            "Predictions: tensor([-9.3222, -6.8607, -9.2881, -7.9284, -6.5926, -4.8426, -9.3534, -0.2917,\n",
            "        -4.1549, -1.4854])\n",
            "Class 0: 0.01%\n",
            "Class 1: 0.10%\n",
            "Class 2: 0.01%\n",
            "Class 3: 0.04%\n",
            "Class 4: 0.14%\n",
            "Class 5: 0.79%\n",
            "Class 6: 0.01%\n",
            "Class 7: 74.70%\n",
            "Class 8: 1.57%\n",
            "Class 9: 22.64%\n"
          ]
        },
        {
          "output_type": "display_data",
          "data": {
            "image/png": "[encoded data removed]",
            "text/plain": [
              "<Figure size 432x288 with 1 Axes>"
            ]
          },
          "metadata": {
            "needs_background": "light"
          }
        },
        {
          "output_type": "stream",
          "name": "stdout",
          "text": [
            "Predicted Label = Sneaker, Class Index = 7\n",
            "\n",
            "\n",
            "Mistake 15. Image 127. Correct Label = Coat, Class Index 4. Predicted: Pullover, Class Index 2. Oops!\n",
            "Predictions: tensor([-6.2132, -7.4254, -0.6402, -7.4773, -0.9124, -8.9521, -2.7168, -9.5407,\n",
            "        -6.3336, -9.9573])\n",
            "Class 0: 0.20%\n",
            "Class 1: 0.06%\n",
            "Class 2: 52.72%\n",
            "Class 3: 0.06%\n",
            "Class 4: 40.16%\n",
            "Class 5: 0.01%\n",
            "Class 6: 6.61%\n",
            "Class 7: 0.01%\n",
            "Class 8: 0.18%\n",
            "Class 9: 0.00%\n"
          ]
        },
        {
          "output_type": "display_data",
          "data": {
            "image/png": "[encoded data removed]",
            "text/plain": [
              "<Figure size 432x288 with 1 Axes>"
            ]
          },
          "metadata": {
            "needs_background": "light"
          }
        },
        {
          "output_type": "stream",
          "name": "stdout",
          "text": [
            "Predicted Label = Pullover, Class Index = 2\n",
            "\n",
            "\n",
            "Mistake 16. Image 147. Correct Label = Shirt, Class Index 6. Predicted: Dress, Class Index 3. Oops!\n",
            "Predictions: tensor([ -5.3264,  -5.9606,  -8.1644,  -0.0114,  -6.3418, -11.1624,  -6.5069,\n",
            "         -9.7178,  -8.2023,  -9.8893])\n",
            "Class 0: 0.49%\n",
            "Class 1: 0.26%\n",
            "Class 2: 0.03%\n",
            "Class 3: 98.86%\n",
            "Class 4: 0.18%\n",
            "Class 5: 0.00%\n",
            "Class 6: 0.15%\n",
            "Class 7: 0.01%\n",
            "Class 8: 0.03%\n",
            "Class 9: 0.01%\n"
          ]
        },
        {
          "output_type": "display_data",
          "data": {
            "image/png": "[encoded data removed]",
            "text/plain": [
              "<Figure size 432x288 with 1 Axes>"
            ]
          },
          "metadata": {
            "needs_background": "light"
          }
        },
        {
          "output_type": "stream",
          "name": "stdout",
          "text": [
            "Predicted Label = Dress, Class Index = 3\n",
            "\n",
            "\n",
            "Mistake 17. Image 150. Correct Label = Coat, Class Index 4. Predicted: Dress, Class Index 3. Oops!\n",
            "Predictions: tensor([ -2.8497,  -5.9227,  -1.9726,  -0.4202,  -3.0835,  -7.0151,  -2.4117,\n",
            "         -8.1980,  -4.9903, -10.2842])\n",
            "Class 0: 5.79%\n",
            "Class 1: 0.27%\n",
            "Class 2: 13.91%\n",
            "Class 3: 65.69%\n",
            "Class 4: 4.58%\n",
            "Class 5: 0.09%\n",
            "Class 6: 8.97%\n",
            "Class 7: 0.03%\n",
            "Class 8: 0.68%\n",
            "Class 9: 0.00%\n"
          ]
        },
        {
          "output_type": "display_data",
          "data": {
            "image/png": "[encoded data removed]",
            "text/plain": [
              "<Figure size 432x288 with 1 Axes>"
            ]
          },
          "metadata": {
            "needs_background": "light"
          }
        },
        {
          "output_type": "stream",
          "name": "stdout",
          "text": [
            "Predicted Label = Dress, Class Index = 3\n",
            "\n",
            "\n",
            "Mistake 18. Image 153. Correct Label = Coat, Class Index 4. Predicted: Dress, Class Index 3. Oops!\n",
            "Predictions: tensor([-5.4397, -5.9761, -4.2350, -0.3268, -1.4831, -8.3855, -3.5931, -8.5142,\n",
            "        -6.0196, -8.9886])\n",
            "Class 0: 0.43%\n",
            "Class 1: 0.25%\n",
            "Class 2: 1.45%\n",
            "Class 3: 72.12%\n",
            "Class 4: 22.69%\n",
            "Class 5: 0.02%\n",
            "Class 6: 2.75%\n",
            "Class 7: 0.02%\n",
            "Class 8: 0.24%\n",
            "Class 9: 0.01%\n"
          ]
        },
        {
          "output_type": "display_data",
          "data": {
            "image/png": "[encoded data removed]",
            "text/plain": [
              "<Figure size 432x288 with 1 Axes>"
            ]
          },
          "metadata": {
            "needs_background": "light"
          }
        },
        {
          "output_type": "stream",
          "name": "stdout",
          "text": [
            "Predicted Label = Dress, Class Index = 3\n",
            "\n",
            "\n",
            "Mistake 19. Image 172. Correct Label = Pullover, Class Index 2. Predicted: Shirt, Class Index 6. Oops!\n",
            "Predictions: tensor([ -5.3532,  -7.6170,  -1.5646,  -4.9400,  -1.6659,  -7.5415,  -0.5325,\n",
            "        -11.3869,  -6.4608,  -8.5568])\n",
            "Class 0: 0.47%\n",
            "Class 1: 0.05%\n",
            "Class 2: 20.92%\n",
            "Class 3: 0.72%\n",
            "Class 4: 18.90%\n",
            "Class 5: 0.05%\n",
            "Class 6: 58.71%\n",
            "Class 7: 0.00%\n",
            "Class 8: 0.16%\n",
            "Class 9: 0.02%\n"
          ]
        },
        {
          "output_type": "display_data",
          "data": {
            "image/png": "[encoded data removed]",
            "text/plain": [
              "<Figure size 432x288 with 1 Axes>"
            ]
          },
          "metadata": {
            "needs_background": "light"
          }
        },
        {
          "output_type": "stream",
          "name": "stdout",
          "text": [
            "Predicted Label = Shirt, Class Index = 6\n",
            "\n",
            "\n",
            "Mistake 20. Image 227. Correct Label = Pullover, Class Index 2. Predicted: Shirt, Class Index 6. Oops!\n",
            "Predictions: tensor([ -3.9799,  -8.5167,  -0.8955,  -6.0485,  -3.5723,  -7.9627,  -0.6154,\n",
            "        -11.4107,  -6.5148, -11.7200])\n",
            "Class 0: 1.87%\n",
            "Class 1: 0.02%\n",
            "Class 2: 40.84%\n",
            "Class 3: 0.24%\n",
            "Class 4: 2.81%\n",
            "Class 5: 0.03%\n",
            "Class 6: 54.04%\n",
            "Class 7: 0.00%\n",
            "Class 8: 0.15%\n",
            "Class 9: 0.00%\n"
          ]
        },
        {
          "output_type": "display_data",
          "data": {
            "image/png": "[encoded data removed]",
            "text/plain": [
              "<Figure size 432x288 with 1 Axes>"
            ]
          },
          "metadata": {
            "needs_background": "light"
          }
        },
        {
          "output_type": "stream",
          "name": "stdout",
          "text": [
            "Predicted Label = Shirt, Class Index = 6\n",
            "\n",
            "\n",
            "Mistake 21. Image 239. Correct Label = Coat, Class Index 4. Predicted: Pullover, Class Index 2. Oops!\n",
            "Predictions: tensor([-5.8314, -5.4752, -0.1533, -8.3154, -2.5598, -7.8169, -2.8754, -9.5480,\n",
            "        -7.6791, -9.1939])\n",
            "Class 0: 0.29%\n",
            "Class 1: 0.42%\n",
            "Class 2: 85.79%\n",
            "Class 3: 0.02%\n",
            "Class 4: 7.73%\n",
            "Class 5: 0.04%\n",
            "Class 6: 5.64%\n",
            "Class 7: 0.01%\n",
            "Class 8: 0.05%\n",
            "Class 9: 0.01%\n"
          ]
        },
        {
          "output_type": "display_data",
          "data": {
            "image/png": "[encoded data removed]",
            "text/plain": [
              "<Figure size 432x288 with 1 Axes>"
            ]
          },
          "metadata": {
            "needs_background": "light"
          }
        },
        {
          "output_type": "stream",
          "name": "stdout",
          "text": [
            "Predicted Label = Pullover, Class Index = 2\n",
            "\n",
            "\n",
            "Mistake 22. Image 244. Correct Label = Shirt, Class Index 6. Predicted: Pullover, Class Index 2. Oops!\n",
            "Predictions: tensor([ -6.4826,  -8.3749,  -0.0659,  -7.6520,  -3.6942,  -8.9021,  -3.3121,\n",
            "        -12.5341,  -8.9417, -11.8156])\n",
            "Class 0: 0.15%\n",
            "Class 1: 0.02%\n",
            "Class 2: 93.62%\n",
            "Class 3: 0.05%\n",
            "Class 4: 2.49%\n",
            "Class 5: 0.01%\n",
            "Class 6: 3.64%\n",
            "Class 7: 0.00%\n",
            "Class 8: 0.01%\n",
            "Class 9: 0.00%\n"
          ]
        },
        {
          "output_type": "display_data",
          "data": {
            "image/png": "[encoded data removed]",
            "text/plain": [
              "<Figure size 432x288 with 1 Axes>"
            ]
          },
          "metadata": {
            "needs_background": "light"
          }
        },
        {
          "output_type": "stream",
          "name": "stdout",
          "text": [
            "Predicted Label = Pullover, Class Index = 2\n",
            "\n",
            "\n",
            "Mistake 23. Image 248. Correct Label = Pullover, Class Index 2. Predicted: Shirt, Class Index 6. Oops!\n",
            "Predictions: tensor([ -3.7653,  -9.0325,  -1.2340,  -5.5411,  -3.6443,  -5.1403,  -0.4743,\n",
            "        -10.5067,  -3.6015, -10.5333])\n",
            "Class 0: 2.32%\n",
            "Class 1: 0.01%\n",
            "Class 2: 29.11%\n",
            "Class 3: 0.39%\n",
            "Class 4: 2.61%\n",
            "Class 5: 0.59%\n",
            "Class 6: 62.23%\n",
            "Class 7: 0.00%\n",
            "Class 8: 2.73%\n",
            "Class 9: 0.00%\n"
          ]
        },
        {
          "output_type": "display_data",
          "data": {
            "image/png": "[encoded data removed]",
            "text/plain": [
              "<Figure size 432x288 with 1 Axes>"
            ]
          },
          "metadata": {
            "needs_background": "light"
          }
        },
        {
          "output_type": "stream",
          "name": "stdout",
          "text": [
            "Predicted Label = Shirt, Class Index = 6\n",
            "\n",
            "\n",
            "Mistake 24. Image 313. Correct Label = Coat, Class Index 4. Predicted: Shirt, Class Index 6. Oops!\n",
            "Predictions: tensor([ -6.6161, -10.1994,  -3.6677,  -7.4900,  -1.6386,  -9.9002,  -0.2522,\n",
            "        -11.1306,  -6.8231, -11.0087])\n",
            "Class 0: 0.13%\n",
            "Class 1: 0.00%\n",
            "Class 2: 2.55%\n",
            "Class 3: 0.06%\n",
            "Class 4: 19.43%\n",
            "Class 5: 0.01%\n",
            "Class 6: 77.71%\n",
            "Class 7: 0.00%\n",
            "Class 8: 0.11%\n",
            "Class 9: 0.00%\n"
          ]
        },
        {
          "output_type": "display_data",
          "data": {
            "image/png": "[encoded data removed]",
            "text/plain": [
              "<Figure size 432x288 with 1 Axes>"
            ]
          },
          "metadata": {
            "needs_background": "light"
          }
        },
        {
          "output_type": "stream",
          "name": "stdout",
          "text": [
            "Predicted Label = Shirt, Class Index = 6\n",
            "\n",
            "\n",
            "Mistake 25. Image 316. Correct Label = Ankle boot, Class Index 9. Predicted: Sneaker, Class Index 7. Oops!\n",
            "Predictions: tensor([ -9.0356,  -7.2731, -10.9009,  -8.9367,  -7.6566,  -6.9428,  -9.8265,\n",
            "         -0.0895,  -4.9854,  -2.5730])\n",
            "Class 0: 0.01%\n",
            "Class 1: 0.07%\n",
            "Class 2: 0.00%\n",
            "Class 3: 0.01%\n",
            "Class 4: 0.05%\n",
            "Class 5: 0.10%\n",
            "Class 6: 0.01%\n",
            "Class 7: 91.44%\n",
            "Class 8: 0.68%\n",
            "Class 9: 7.63%\n"
          ]
        },
        {
          "output_type": "display_data",
          "data": {
            "image/png": "[encoded data removed]",
            "text/plain": [
              "<Figure size 432x288 with 1 Axes>"
            ]
          },
          "metadata": {
            "needs_background": "light"
          }
        },
        {
          "output_type": "stream",
          "name": "stdout",
          "text": [
            "Predicted Label = Sneaker, Class Index = 7\n",
            "\n",
            "Found 25 mistakes after examining 316 images.\n"
          ]
        }
      ]
    },
    {
      "cell_type": "code",
      "metadata": {
        "id": "_DkKHZM8VJws"
      },
      "source": [
        ""
      ],
      "execution_count": 15,
      "outputs": []
    }
  ]
}